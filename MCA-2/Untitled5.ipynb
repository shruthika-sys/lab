{
 "cells": [
  {
   "cell_type": "code",
   "execution_count": 1,
   "id": "0faf5287",
   "metadata": {},
   "outputs": [],
   "source": [
    "import pandas as pd\n",
    "import numpy as np"
   ]
  },
  {
   "cell_type": "code",
   "execution_count": 2,
   "id": "fadf9b0b",
   "metadata": {},
   "outputs": [],
   "source": [
    "df=pd.read_csv(\"prg.csv\")"
   ]
  },
  {
   "cell_type": "code",
   "execution_count": 3,
   "id": "fad40bb1",
   "metadata": {},
   "outputs": [
    {
     "data": {
      "text/html": [
       "<div>\n",
       "<style scoped>\n",
       "    .dataframe tbody tr th:only-of-type {\n",
       "        vertical-align: middle;\n",
       "    }\n",
       "\n",
       "    .dataframe tbody tr th {\n",
       "        vertical-align: top;\n",
       "    }\n",
       "\n",
       "    .dataframe thead th {\n",
       "        text-align: right;\n",
       "    }\n",
       "</style>\n",
       "<table border=\"1\" class=\"dataframe\">\n",
       "  <thead>\n",
       "    <tr style=\"text-align: right;\">\n",
       "      <th></th>\n",
       "      <th>sl.no</th>\n",
       "      <th>Name</th>\n",
       "      <th>Class</th>\n",
       "      <th>Address</th>\n",
       "      <th>Mobile</th>\n",
       "    </tr>\n",
       "  </thead>\n",
       "  <tbody>\n",
       "    <tr>\n",
       "      <th>0</th>\n",
       "      <td>1</td>\n",
       "      <td>sanvi</td>\n",
       "      <td>MCA</td>\n",
       "      <td>Puttur</td>\n",
       "      <td>990807788.0</td>\n",
       "    </tr>\n",
       "    <tr>\n",
       "      <th>1</th>\n",
       "      <td>2</td>\n",
       "      <td>sanvi</td>\n",
       "      <td>MCA</td>\n",
       "      <td>Puttur</td>\n",
       "      <td>994004555.0</td>\n",
       "    </tr>\n",
       "    <tr>\n",
       "      <th>2</th>\n",
       "      <td>3</td>\n",
       "      <td>sanvi</td>\n",
       "      <td>MCA</td>\n",
       "      <td>Puttur</td>\n",
       "      <td>NaN</td>\n",
       "    </tr>\n",
       "    <tr>\n",
       "      <th>3</th>\n",
       "      <td>4</td>\n",
       "      <td>sharu</td>\n",
       "      <td>MCA</td>\n",
       "      <td>Puttur</td>\n",
       "      <td>998800955.0</td>\n",
       "    </tr>\n",
       "    <tr>\n",
       "      <th>4</th>\n",
       "      <td>5</td>\n",
       "      <td>shree</td>\n",
       "      <td>MCA</td>\n",
       "      <td>NaN</td>\n",
       "      <td>NaN</td>\n",
       "    </tr>\n",
       "    <tr>\n",
       "      <th>5</th>\n",
       "      <td>6</td>\n",
       "      <td>manu</td>\n",
       "      <td>MCA</td>\n",
       "      <td>NaN</td>\n",
       "      <td>889800944.0</td>\n",
       "    </tr>\n",
       "    <tr>\n",
       "      <th>6</th>\n",
       "      <td>7</td>\n",
       "      <td>raju</td>\n",
       "      <td>MCA</td>\n",
       "      <td>mangalore</td>\n",
       "      <td>NaN</td>\n",
       "    </tr>\n",
       "    <tr>\n",
       "      <th>7</th>\n",
       "      <td>8</td>\n",
       "      <td>somu</td>\n",
       "      <td>MBA</td>\n",
       "      <td>mangalore</td>\n",
       "      <td>NaN</td>\n",
       "    </tr>\n",
       "    <tr>\n",
       "      <th>8</th>\n",
       "      <td>9</td>\n",
       "      <td>pallavi</td>\n",
       "      <td>MBA</td>\n",
       "      <td>NaN</td>\n",
       "      <td>NaN</td>\n",
       "    </tr>\n",
       "    <tr>\n",
       "      <th>9</th>\n",
       "      <td>10</td>\n",
       "      <td>ram</td>\n",
       "      <td>MBA</td>\n",
       "      <td>kadaba</td>\n",
       "      <td>997755443.0</td>\n",
       "    </tr>\n",
       "  </tbody>\n",
       "</table>\n",
       "</div>"
      ],
      "text/plain": [
       "   sl.no     Name Class    Address       Mobile\n",
       "0      1    sanvi   MCA     Puttur  990807788.0\n",
       "1      2    sanvi   MCA     Puttur  994004555.0\n",
       "2      3    sanvi   MCA     Puttur          NaN\n",
       "3      4    sharu   MCA     Puttur  998800955.0\n",
       "4      5    shree   MCA        NaN          NaN\n",
       "5      6     manu   MCA        NaN  889800944.0\n",
       "6      7     raju   MCA  mangalore          NaN\n",
       "7      8     somu   MBA  mangalore          NaN\n",
       "8      9  pallavi   MBA        NaN          NaN\n",
       "9     10      ram   MBA     kadaba  997755443.0"
      ]
     },
     "execution_count": 3,
     "metadata": {},
     "output_type": "execute_result"
    }
   ],
   "source": [
    "df=pd.read_csv(\"prg.csv\")\n",
    "df"
   ]
  },
  {
   "cell_type": "code",
   "execution_count": 7,
   "id": "d5b9389c",
   "metadata": {},
   "outputs": [
    {
     "data": {
      "text/html": [
       "<div>\n",
       "<style scoped>\n",
       "    .dataframe tbody tr th:only-of-type {\n",
       "        vertical-align: middle;\n",
       "    }\n",
       "\n",
       "    .dataframe tbody tr th {\n",
       "        vertical-align: top;\n",
       "    }\n",
       "\n",
       "    .dataframe thead th {\n",
       "        text-align: right;\n",
       "    }\n",
       "</style>\n",
       "<table border=\"1\" class=\"dataframe\">\n",
       "  <thead>\n",
       "    <tr style=\"text-align: right;\">\n",
       "      <th></th>\n",
       "      <th>sl.no</th>\n",
       "      <th>Name</th>\n",
       "      <th>Class</th>\n",
       "      <th>Address</th>\n",
       "      <th>Mobile</th>\n",
       "    </tr>\n",
       "  </thead>\n",
       "  <tbody>\n",
       "    <tr>\n",
       "      <th>0</th>\n",
       "      <td>1</td>\n",
       "      <td>sanvi</td>\n",
       "      <td>MCA</td>\n",
       "      <td>Puttur</td>\n",
       "      <td>990807788.0</td>\n",
       "    </tr>\n",
       "    <tr>\n",
       "      <th>1</th>\n",
       "      <td>2</td>\n",
       "      <td>sanvi</td>\n",
       "      <td>MCA</td>\n",
       "      <td>Puttur</td>\n",
       "      <td>994004555.0</td>\n",
       "    </tr>\n",
       "    <tr>\n",
       "      <th>2</th>\n",
       "      <td>3</td>\n",
       "      <td>sanvi</td>\n",
       "      <td>MCA</td>\n",
       "      <td>Puttur</td>\n",
       "      <td>NaN</td>\n",
       "    </tr>\n",
       "    <tr>\n",
       "      <th>3</th>\n",
       "      <td>4</td>\n",
       "      <td>sharu</td>\n",
       "      <td>MCA</td>\n",
       "      <td>Puttur</td>\n",
       "      <td>998800955.0</td>\n",
       "    </tr>\n",
       "    <tr>\n",
       "      <th>4</th>\n",
       "      <td>5</td>\n",
       "      <td>shree</td>\n",
       "      <td>MCA</td>\n",
       "      <td>mangalore</td>\n",
       "      <td>NaN</td>\n",
       "    </tr>\n",
       "  </tbody>\n",
       "</table>\n",
       "</div>"
      ],
      "text/plain": [
       "   sl.no   Name Class    Address       Mobile\n",
       "0      1  sanvi   MCA     Puttur  990807788.0\n",
       "1      2  sanvi   MCA     Puttur  994004555.0\n",
       "2      3  sanvi   MCA     Puttur          NaN\n",
       "3      4  sharu   MCA     Puttur  998800955.0\n",
       "4      5  shree   MCA  mangalore          NaN"
      ]
     },
     "execution_count": 7,
     "metadata": {},
     "output_type": "execute_result"
    }
   ],
   "source": [
    "df_dropped=df.dropna()\n",
    "df.head()"
   ]
  },
  {
   "cell_type": "code",
   "execution_count": 6,
   "id": "8f8523ae",
   "metadata": {},
   "outputs": [
    {
     "data": {
      "text/html": [
       "<div>\n",
       "<style scoped>\n",
       "    .dataframe tbody tr th:only-of-type {\n",
       "        vertical-align: middle;\n",
       "    }\n",
       "\n",
       "    .dataframe tbody tr th {\n",
       "        vertical-align: top;\n",
       "    }\n",
       "\n",
       "    .dataframe thead th {\n",
       "        text-align: right;\n",
       "    }\n",
       "</style>\n",
       "<table border=\"1\" class=\"dataframe\">\n",
       "  <thead>\n",
       "    <tr style=\"text-align: right;\">\n",
       "      <th></th>\n",
       "      <th>sl.no</th>\n",
       "      <th>Name</th>\n",
       "      <th>Class</th>\n",
       "      <th>Address</th>\n",
       "      <th>Mobile</th>\n",
       "    </tr>\n",
       "  </thead>\n",
       "  <tbody>\n",
       "    <tr>\n",
       "      <th>0</th>\n",
       "      <td>1</td>\n",
       "      <td>sanvi</td>\n",
       "      <td>MCA</td>\n",
       "      <td>Puttur</td>\n",
       "      <td>990807788.0</td>\n",
       "    </tr>\n",
       "    <tr>\n",
       "      <th>1</th>\n",
       "      <td>2</td>\n",
       "      <td>sanvi</td>\n",
       "      <td>MCA</td>\n",
       "      <td>Puttur</td>\n",
       "      <td>994004555.0</td>\n",
       "    </tr>\n",
       "    <tr>\n",
       "      <th>2</th>\n",
       "      <td>3</td>\n",
       "      <td>sanvi</td>\n",
       "      <td>MCA</td>\n",
       "      <td>Puttur</td>\n",
       "      <td>NaN</td>\n",
       "    </tr>\n",
       "    <tr>\n",
       "      <th>3</th>\n",
       "      <td>4</td>\n",
       "      <td>sharu</td>\n",
       "      <td>MCA</td>\n",
       "      <td>Puttur</td>\n",
       "      <td>998800955.0</td>\n",
       "    </tr>\n",
       "    <tr>\n",
       "      <th>4</th>\n",
       "      <td>5</td>\n",
       "      <td>shree</td>\n",
       "      <td>MCA</td>\n",
       "      <td>mangalore</td>\n",
       "      <td>NaN</td>\n",
       "    </tr>\n",
       "  </tbody>\n",
       "</table>\n",
       "</div>"
      ],
      "text/plain": [
       "   sl.no   Name Class    Address       Mobile\n",
       "0      1  sanvi   MCA     Puttur  990807788.0\n",
       "1      2  sanvi   MCA     Puttur  994004555.0\n",
       "2      3  sanvi   MCA     Puttur          NaN\n",
       "3      4  sharu   MCA     Puttur  998800955.0\n",
       "4      5  shree   MCA  mangalore          NaN"
      ]
     },
     "execution_count": 6,
     "metadata": {},
     "output_type": "execute_result"
    }
   ],
   "source": [
    "df['Address']=df['Address'].fillna('mangalore')\n",
    "df.head()"
   ]
  },
  {
   "cell_type": "code",
   "execution_count": 9,
   "id": "b5e105f2",
   "metadata": {},
   "outputs": [
    {
     "data": {
      "text/html": [
       "<div>\n",
       "<style scoped>\n",
       "    .dataframe tbody tr th:only-of-type {\n",
       "        vertical-align: middle;\n",
       "    }\n",
       "\n",
       "    .dataframe tbody tr th {\n",
       "        vertical-align: top;\n",
       "    }\n",
       "\n",
       "    .dataframe thead th {\n",
       "        text-align: right;\n",
       "    }\n",
       "</style>\n",
       "<table border=\"1\" class=\"dataframe\">\n",
       "  <thead>\n",
       "    <tr style=\"text-align: right;\">\n",
       "      <th></th>\n",
       "      <th>sl.no</th>\n",
       "      <th>Name</th>\n",
       "      <th>Class</th>\n",
       "      <th>Address</th>\n",
       "      <th>Mobile</th>\n",
       "    </tr>\n",
       "  </thead>\n",
       "  <tbody>\n",
       "    <tr>\n",
       "      <th>0</th>\n",
       "      <td>1</td>\n",
       "      <td>sanvi</td>\n",
       "      <td>MCA</td>\n",
       "      <td>Puttur</td>\n",
       "      <td>990807788.0</td>\n",
       "    </tr>\n",
       "    <tr>\n",
       "      <th>1</th>\n",
       "      <td>2</td>\n",
       "      <td>sanvi</td>\n",
       "      <td>MCA</td>\n",
       "      <td>Puttur</td>\n",
       "      <td>994004555.0</td>\n",
       "    </tr>\n",
       "    <tr>\n",
       "      <th>2</th>\n",
       "      <td>3</td>\n",
       "      <td>sanvi</td>\n",
       "      <td>MCA</td>\n",
       "      <td>Puttur</td>\n",
       "      <td>NaN</td>\n",
       "    </tr>\n",
       "    <tr>\n",
       "      <th>3</th>\n",
       "      <td>4</td>\n",
       "      <td>sharu</td>\n",
       "      <td>MCA</td>\n",
       "      <td>Puttur</td>\n",
       "      <td>998800955.0</td>\n",
       "    </tr>\n",
       "    <tr>\n",
       "      <th>4</th>\n",
       "      <td>5</td>\n",
       "      <td>shree</td>\n",
       "      <td>MCA</td>\n",
       "      <td>mangalore</td>\n",
       "      <td>NaN</td>\n",
       "    </tr>\n",
       "  </tbody>\n",
       "</table>\n",
       "</div>"
      ],
      "text/plain": [
       "   sl.no   Name Class    Address       Mobile\n",
       "0      1  sanvi   MCA     Puttur  990807788.0\n",
       "1      2  sanvi   MCA     Puttur  994004555.0\n",
       "2      3  sanvi   MCA     Puttur          NaN\n",
       "3      4  sharu   MCA     Puttur  998800955.0\n",
       "4      5  shree   MCA  mangalore          NaN"
      ]
     },
     "execution_count": 9,
     "metadata": {},
     "output_type": "execute_result"
    }
   ],
   "source": [
    "df['Address']=df['Address'].fillna('mangalore')\n",
    "df.head()"
   ]
  },
  {
   "cell_type": "code",
   "execution_count": 10,
   "id": "5d8dc893",
   "metadata": {},
   "outputs": [
    {
     "name": "stdout",
     "output_type": "stream",
     "text": [
      "   sl.no     Name Class    Address       Mobile\n",
      "0      1    sanvi   MCA     Puttur  990807788.0\n",
      "1      2    sanvi   MCA     Puttur  994004555.0\n",
      "2      3    sanvi   MCA     Puttur          NaN\n",
      "3      4    sharu   MCA     Puttur  998800955.0\n",
      "4      5    shree   MCA  mangalore          NaN\n",
      "5      6     manu   MCA  mangalore  889800944.0\n",
      "6      7     raju   MCA  mangalore          NaN\n",
      "7      8     somu   MBA  mangalore          NaN\n",
      "8      9  pallavi   MBA  mangalore          NaN\n",
      "9     10      ram   MBA     kadaba  997755443.0\n"
     ]
    }
   ],
   "source": [
    "print(df)"
   ]
  },
  {
   "cell_type": "code",
   "execution_count": 11,
   "id": "d87d9069",
   "metadata": {},
   "outputs": [
    {
     "ename": "TypeError",
     "evalue": "unsupported operand type(s) for +: 'int' and 'str'",
     "output_type": "error",
     "traceback": [
      "\u001b[0;31m---------------------------------------------------------------------------\u001b[0m",
      "\u001b[0;31mTypeError\u001b[0m                                 Traceback (most recent call last)",
      "\u001b[0;32m/tmp/ipykernel_4209/2842718553.py\u001b[0m in \u001b[0;36m<module>\u001b[0;34m\u001b[0m\n\u001b[0;32m----> 1\u001b[0;31m \u001b[0mtrace\u001b[0m\u001b[0;34m=\u001b[0m\u001b[0mnp\u001b[0m\u001b[0;34m.\u001b[0m\u001b[0mtrace\u001b[0m\u001b[0;34m(\u001b[0m\u001b[0mdf\u001b[0m\u001b[0;34m)\u001b[0m\u001b[0;34m\u001b[0m\u001b[0;34m\u001b[0m\u001b[0m\n\u001b[0m\u001b[1;32m      2\u001b[0m \u001b[0mprint\u001b[0m\u001b[0;34m(\u001b[0m\u001b[0;34m\"/n trace of given matrix:\"\u001b[0m\u001b[0;34m)\u001b[0m\u001b[0;34m\u001b[0m\u001b[0;34m\u001b[0m\u001b[0m\n\u001b[1;32m      3\u001b[0m \u001b[0mprint\u001b[0m\u001b[0;34m(\u001b[0m\u001b[0mtrace\u001b[0m\u001b[0;34m)\u001b[0m\u001b[0;34m\u001b[0m\u001b[0;34m\u001b[0m\u001b[0m\n",
      "\u001b[0;32m<__array_function__ internals>\u001b[0m in \u001b[0;36mtrace\u001b[0;34m(*args, **kwargs)\u001b[0m\n",
      "\u001b[0;32m~/anaconda3/lib/python3.9/site-packages/numpy/core/fromnumeric.py\u001b[0m in \u001b[0;36mtrace\u001b[0;34m(a, offset, axis1, axis2, dtype, out)\u001b[0m\n\u001b[1;32m   1707\u001b[0m         \u001b[0;32mreturn\u001b[0m \u001b[0masarray\u001b[0m\u001b[0;34m(\u001b[0m\u001b[0ma\u001b[0m\u001b[0;34m)\u001b[0m\u001b[0;34m.\u001b[0m\u001b[0mtrace\u001b[0m\u001b[0;34m(\u001b[0m\u001b[0moffset\u001b[0m\u001b[0;34m=\u001b[0m\u001b[0moffset\u001b[0m\u001b[0;34m,\u001b[0m \u001b[0maxis1\u001b[0m\u001b[0;34m=\u001b[0m\u001b[0maxis1\u001b[0m\u001b[0;34m,\u001b[0m \u001b[0maxis2\u001b[0m\u001b[0;34m=\u001b[0m\u001b[0maxis2\u001b[0m\u001b[0;34m,\u001b[0m \u001b[0mdtype\u001b[0m\u001b[0;34m=\u001b[0m\u001b[0mdtype\u001b[0m\u001b[0;34m,\u001b[0m \u001b[0mout\u001b[0m\u001b[0;34m=\u001b[0m\u001b[0mout\u001b[0m\u001b[0;34m)\u001b[0m\u001b[0;34m\u001b[0m\u001b[0;34m\u001b[0m\u001b[0m\n\u001b[1;32m   1708\u001b[0m     \u001b[0;32melse\u001b[0m\u001b[0;34m:\u001b[0m\u001b[0;34m\u001b[0m\u001b[0;34m\u001b[0m\u001b[0m\n\u001b[0;32m-> 1709\u001b[0;31m         \u001b[0;32mreturn\u001b[0m \u001b[0masanyarray\u001b[0m\u001b[0;34m(\u001b[0m\u001b[0ma\u001b[0m\u001b[0;34m)\u001b[0m\u001b[0;34m.\u001b[0m\u001b[0mtrace\u001b[0m\u001b[0;34m(\u001b[0m\u001b[0moffset\u001b[0m\u001b[0;34m=\u001b[0m\u001b[0moffset\u001b[0m\u001b[0;34m,\u001b[0m \u001b[0maxis1\u001b[0m\u001b[0;34m=\u001b[0m\u001b[0maxis1\u001b[0m\u001b[0;34m,\u001b[0m \u001b[0maxis2\u001b[0m\u001b[0;34m=\u001b[0m\u001b[0maxis2\u001b[0m\u001b[0;34m,\u001b[0m \u001b[0mdtype\u001b[0m\u001b[0;34m=\u001b[0m\u001b[0mdtype\u001b[0m\u001b[0;34m,\u001b[0m \u001b[0mout\u001b[0m\u001b[0;34m=\u001b[0m\u001b[0mout\u001b[0m\u001b[0;34m)\u001b[0m\u001b[0;34m\u001b[0m\u001b[0;34m\u001b[0m\u001b[0m\n\u001b[0m\u001b[1;32m   1710\u001b[0m \u001b[0;34m\u001b[0m\u001b[0m\n\u001b[1;32m   1711\u001b[0m \u001b[0;34m\u001b[0m\u001b[0m\n",
      "\u001b[0;31mTypeError\u001b[0m: unsupported operand type(s) for +: 'int' and 'str'"
     ]
    }
   ],
   "source": [
    "trace=np.trace(df)\n",
    "print(\"/n trace of given matrix:\")\n",
    "print(trace)"
   ]
  },
  {
   "cell_type": "code",
   "execution_count": 17,
   "id": "c83e0daa",
   "metadata": {},
   "outputs": [
    {
     "name": "stdout",
     "output_type": "stream",
     "text": [
      "Enter number4\n",
      "2\n",
      "5\n",
      "8\n",
      "9\n",
      "[2, 5, 8, 9]\n",
      "Sorted Array=[2 5 8 9]\n",
      "Enter element to search:5\n",
      "index=(array([1]),)\n",
      "Enter splitting value:2\n",
      "[array([2, 5]), array([8, 9])]\n"
     ]
    }
   ],
   "source": [
    "import numpy as np\n",
    "lt=[]\n",
    "n=int(input(\"Enter number\"))\n",
    "for i in range(0,n):\n",
    "    ele=int(input())\n",
    "    lt.append(ele)\n",
    "print(lt)\n",
    "arr=np.array(lt)\n",
    "arr=np.sort(arr)\n",
    "print(\"Sorted Array={}\".format(arr))\n",
    "ele=int(input(\"Enter element to search:\"))\n",
    "i=np.where(arr==ele)\n",
    "print(\"index={}\".format(i))\n",
    "s=int(input(\"Enter splitting value:\"))\n",
    "newarr=np.array_split(arr,s)\n",
    "print(newarr)"
   ]
  },
  {
   "cell_type": "code",
   "execution_count": 24,
   "id": "7c1231c1",
   "metadata": {},
   "outputs": [
    {
     "name": "stdout",
     "output_type": "stream",
     "text": [
      "[1110.  188.] (2,)\n",
      "[[1020.  203.]\n",
      " [ 132.  193.]\n",
      " [  45.  155.]\n",
      " [  57.  173.]] (4, 2)\n",
      "[[  -90.    15.]\n",
      " [ -978.     5.]\n",
      " [-1065.   -33.]\n",
      " [-1053.   -15.]] (4, 2)\n",
      "[  91.24143795  978.0127811  1065.51114494 1053.10683219] (4,)\n"
     ]
    },
    {
     "data": {
      "text/plain": [
       "0"
      ]
     },
     "execution_count": 24,
     "metadata": {},
     "output_type": "execute_result"
    }
   ],
   "source": [
    "import numpy as np\n",
    "from numpy import array,argmin,sqrt,sum\n",
    "observation = array([1110,188.0])\n",
    "codes = array([[1020,203.0],\n",
    "           [132.0,193.0],\n",
    "           [45.0,155.0],\n",
    "           [57.0,173.0]])\n",
    "diff = codes -observation\n",
    "dist = sqrt(sum(diff**2,axis=-1))\n",
    "print(observation,observation.shape)\n",
    "print(codes,codes.shape)\n",
    "print(diff,diff.shape)\n",
    "print(dist,dist.shape)\n",
    "argmin(dist)"
   ]
  },
  {
   "cell_type": "code",
   "execution_count": 27,
   "id": "7b51d6c0",
   "metadata": {},
   "outputs": [
    {
     "data": {
      "image/png": "[encoded data removed]",
      "text/plain": [
       "<Figure size 432x288 with 1 Axes>"
      ]
     },
     "metadata": {
      "needs_background": "light"
     },
     "output_type": "display_data"
    }
   ],
   "source": [
    "import numpy as np\n",
    "import matplotlib.pyplot as plt\n",
    "\n",
    "x=np.arange(0,3*np.pi,0.1)\n",
    "y_sin=np.sin(x)\n",
    "y_cos=np.cos(x)\n",
    "plt.plot(x,y_sin)\n",
    "plt.plot(x,y_cos)\n",
    "plt.xlabel('x axis label')\n",
    "plt.ylabel('y axis label')\n",
    "plt.title('Sine and Cosine')\n",
    "plt.legend(['Sine','Cosine'])\n",
    "plt.show()"
   ]
  },
  {
   "cell_type": "code",
   "execution_count": 28,
   "id": "2894baf0",
   "metadata": {},
   "outputs": [
    {
     "data": {
      "image/png": "[encoded data removed]",
      "text/plain": [
       "<Figure size 432x288 with 1 Axes>"
      ]
     },
     "metadata": {
      "needs_background": "light"
     },
     "output_type": "display_data"
    }
   ],
   "source": [
    "import pandas as pd\n",
    "import matplotlib.pyplot as plt\n",
    "data={'year':[1920,1930,1940,1950,1960,1970,1980,1990,2000,2010],\n",
    "     'unemployment_rate':[9.8,12,8,7.2,6.9,7,6.5,6.2,5.5,6.3]\n",
    "     }\n",
    "df=pd.DataFrame(data)\n",
    "plt.plot(df['year'],df['unemployment_rate'],color='red',marker='p')\n",
    "plt.title('unemployment rate vs year',fontsize=14)\n",
    "plt.xlabel('year',fontsize=14)\n",
    "plt.ylabel('unemployment rate',fontsize=14)\n",
    "plt.grid(True)\n",
    "plt.show()"
   ]
  },
  {
   "cell_type": "code",
   "execution_count": 29,
   "id": "ce2b3026",
   "metadata": {},
   "outputs": [
    {
     "data": {
      "image/png": "[encoded data removed]",
      "text/plain": [
       "<Figure size 432x288 with 1 Axes>"
      ]
     },
     "metadata": {
      "needs_background": "light"
     },
     "output_type": "display_data"
    }
   ],
   "source": [
    "import matplotlib.pyplot as plt\n",
    "import numpy as np\n",
    "x=np.array([5,7,8,7,2,17,2,9,4,11,12,9,6])\n",
    "y=np.array([99,86,87,88,111,86,103,87,94,78,77,85,86])\n",
    "plt.scatter(x,y)\n",
    "plt.show()"
   ]
  },
  {
   "cell_type": "code",
   "execution_count": 30,
   "id": "cfc7ecb4",
   "metadata": {},
   "outputs": [
    {
     "data": {
      "image/png": "[encoded data removed]",
      "text/plain": [
       "<Figure size 720x504 with 1 Axes>"
      ]
     },
     "metadata": {
      "needs_background": "light"
     },
     "output_type": "display_data"
    }
   ],
   "source": [
    "import matplotlib.pyplot as plt\n",
    "import numpy as np\n",
    "np.random.seed(10)\n",
    "dataSet1=np.random.normal(100,10,220)\n",
    "dataSet2=np.random.normal(80,60,200)\n",
    "dataSet3=np.random.normal(60,35,220)\n",
    "dataSet4=np.random.normal(50,40,200)\n",
    "dataSet=[dataSet1,dataSet2,dataSet3,dataSet4]\n",
    "figure=plt.figure(figsize=(10,7))\n",
    "ax=figure.add_axes([0,0,1,1])\n",
    "bp=ax.boxplot(dataSet)\n",
    "plt.show()"
   ]
  },
  {
   "cell_type": "code",
   "execution_count": 33,
   "id": "37f7ea51",
   "metadata": {},
   "outputs": [
    {
     "data": {
      "image/png": "[encoded data removed]",
      "text/plain": [
       "<Figure size 432x288 with 1 Axes>"
      ]
     },
     "metadata": {
      "needs_background": "light"
     },
     "output_type": "display_data"
    }
   ],
   "source": [
    "from matplotlib import pyplot as plt\n",
    "import numpy as np\n",
    "fig,ax=plt.subplots(1,1)\n",
    "a=np.array([22,87,5,43,56,73,55,54,11,20,51,5,79,31,27])\n",
    "ax.hist(a,bins=[0,25,50,75,100])\n",
    "ax.set_title(\"histogram of result\")\n",
    "ax.set_xticks([0,25,20,75,100])\n",
    "ax.set_ylabel('marks')\n",
    "ax.set_ylabel('no.of students')\n",
    "plt.show()"
   ]
  },
  {
   "cell_type": "code",
   "execution_count": null,
   "id": "20855421",
   "metadata": {},
   "outputs": [],
   "source": []
  }
 ],
 "metadata": {
  "kernelspec": {
   "display_name": "Python 3 (ipykernel)",
   "language": "python",
   "name": "python3"
  },
  "language_info": {
   "codemirror_mode": {
    "name": "ipython",
    "version": 3
   },
   "file_extension": ".py",
   "mimetype": "text/x-python",
   "name": "python",
   "nbconvert_exporter": "python",
   "pygments_lexer": "ipython3",
   "version": "3.9.7"
  }
 },
 "nbformat": 4,
 "nbformat_minor": 5
}
