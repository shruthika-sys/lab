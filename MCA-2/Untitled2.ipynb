{
 "cells": [
  {
   "cell_type": "code",
   "execution_count": 1,
   "id": "874cffb1",
   "metadata": {},
   "outputs": [
    {
     "name": "stdout",
     "output_type": "stream",
     "text": [
      "hello\n"
     ]
    }
   ],
   "source": [
    "string=\"hello\"\n",
    "print(string)"
   ]
  },
  {
   "cell_type": "code",
   "execution_count": 2,
   "id": "16ed6c93",
   "metadata": {},
   "outputs": [
    {
     "name": "stdout",
     "output_type": "stream",
     "text": [
      "hellooooo\n"
     ]
    }
   ],
   "source": [
    "string=\"hellooooo\"\n",
    "print(string)"
   ]
  },
  {
   "cell_type": "code",
   "execution_count": 3,
   "id": "df9f2143",
   "metadata": {},
   "outputs": [
    {
     "name": "stdout",
     "output_type": "stream",
     "text": [
      "\n"
     ]
    }
   ],
   "source": [
    "string=\"this is awasome!!\"\n",
    "print(string[2:2:9])"
   ]
  },
  {
   "cell_type": "code",
   "execution_count": 5,
   "id": "f06d02c9",
   "metadata": {},
   "outputs": [
    {
     "name": "stdout",
     "output_type": "stream",
     "text": [
      "HELLOOOOO\n"
     ]
    }
   ],
   "source": [
    "string=\"hellooooo\"\n",
    "print(string.upper())"
   ]
  },
  {
   "cell_type": "code",
   "execution_count": 6,
   "id": "fbfffcaa",
   "metadata": {},
   "outputs": [
    {
     "name": "stdout",
     "output_type": "stream",
     "text": [
      "This is a\n",
      "multiline string. \n"
     ]
    }
   ],
   "source": [
    "x = \"Lionel Messi\"\n",
    "y = 'Gareth Bale'\n",
    "z='''This is a\n",
    "multiline string. '''\n",
    "print(z)"
   ]
  },
  {
   "cell_type": "code",
   "execution_count": 7,
   "id": "2ae894e0",
   "metadata": {},
   "outputs": [
    {
     "name": "stdout",
     "output_type": "stream",
     "text": [
      "Lionel Messi\n"
     ]
    }
   ],
   "source": [
    "print(x)"
   ]
  },
  {
   "cell_type": "code",
   "execution_count": 8,
   "id": "fcbf6830",
   "metadata": {},
   "outputs": [
    {
     "name": "stdout",
     "output_type": "stream",
     "text": [
      "r\n"
     ]
    }
   ],
   "source": [
    "print(y[2])"
   ]
  },
  {
   "cell_type": "code",
   "execution_count": 9,
   "id": "0617eda9",
   "metadata": {},
   "outputs": [
    {
     "name": "stdout",
     "output_type": "stream",
     "text": [
      "python\n"
     ]
    }
   ],
   "source": [
    "text = \"pYtHon\"\n",
    "# convert all characters to lowercase\n",
    "lowercased_string = text.casefold()\n",
    "\n",
    "print(lowercased_string)\n",
    "# Output: python"
   ]
  },
  {
   "cell_type": "code",
   "execution_count": 11,
   "id": "9051a8c8",
   "metadata": {},
   "outputs": [
    {
     "name": "stdout",
     "output_type": "stream",
     "text": [
      "*******Shruthika********\n"
     ]
    }
   ],
   "source": [
    "sentence = \"Shruthika\"\n",
    "# returns the centered padded string of length 24\n",
    "new_string = sentence.center(24, '*')\n",
    "\n",
    "print(new_string)"
   ]
  },
  {
   "cell_type": "code",
   "execution_count": 17,
   "id": "b4a4e292",
   "metadata": {},
   "outputs": [
    {
     "name": "stdout",
     "output_type": "stream",
     "text": [
      "['c', 'this is the list item', 102, 103, 45, 'changed']\n",
      "['c', 30, 'this is the list item', 102, 103, 45, 'changed']\n",
      "['c', 30, 'hello', 'this is the list item', 102, 103, 45, 'changed']\n",
      "[]\n"
     ]
    }
   ],
   "source": [
    "list1=['c','this is the list item',102,103,45]\n",
    "list1.append(\"changed\")\n",
    "print(list1)\n",
    "list1.insert(1,30)\n",
    "print(list1)\n",
    "list1.insert(2,'hello')\n",
    "print(list1)\n",
    "list1.clear()\n",
    "print(list1)"
   ]
  },
  {
   "cell_type": "code",
   "execution_count": 19,
   "id": "993037ba",
   "metadata": {},
   "outputs": [
    {
     "name": "stdout",
     "output_type": "stream",
     "text": [
      "hellogood\n"
     ]
    }
   ],
   "source": [
    "str1=\"hello\"\n",
    "str2=\"good\"\n",
    "x=10\n",
    "string3=str1+str2\n",
    "print(string3)"
   ]
  },
  {
   "cell_type": "code",
   "execution_count": 23,
   "id": "aec88526",
   "metadata": {},
   "outputs": [
    {
     "name": "stdout",
     "output_type": "stream",
     "text": [
      "Enter two numbers\n",
      "10\n",
      "10\n",
      "20.0\n"
     ]
    }
   ],
   "source": [
    "print(\"Enter two numbers\")\n",
    "x=float(input())\n",
    "y=int(input())\n",
    "print(x+y)"
   ]
  },
  {
   "cell_type": "code",
   "execution_count": 25,
   "id": "e2f13640",
   "metadata": {},
   "outputs": [
    {
     "name": "stdout",
     "output_type": "stream",
     "text": [
      "Enter farenheit20\n",
      "-6.666666666666667\n"
     ]
    }
   ],
   "source": [
    "inp=input(\"Enter farenheit\")\n",
    "try:\n",
    "    fahr=float(inp)\n",
    "    cel=(fahr-32.0)*5.0/9.0\n",
    "    print(cel)\n",
    "except:\n",
    "    print(\"Enter a number\")\n",
    "    "
   ]
  },
  {
   "cell_type": "code",
   "execution_count": 35,
   "id": "e437a4d4",
   "metadata": {},
   "outputs": [
    {
     "name": "stdout",
     "output_type": "stream",
     "text": [
      "c is greater\n"
     ]
    }
   ],
   "source": [
    "a=10\n",
    "b=15\n",
    "c=20\n",
    "if b>c:\n",
    "    print(\"B is greater\")\n",
    "elif b>c:\n",
    "    print(\"a is greater\")\n",
    "    \n",
    "else:\n",
    "    print(\"c is greater\")"
   ]
  },
  {
   "cell_type": "code",
   "execution_count": 39,
   "id": "5879bda6",
   "metadata": {},
   "outputs": [
    {
     "name": "stdout",
     "output_type": "stream",
     "text": [
      "who failed5\n",
      "congratz 2\n",
      "congratz 3\n",
      "congratz 4\n",
      "congratz 6\n",
      "congratz 7\n",
      "congratz 8\n",
      "congratz 9\n",
      "congratz 10\n",
      "congratz 11\n"
     ]
    }
   ],
   "source": [
    "student=1\n",
    "us=int(input(\"who failed\"))\n",
    "while student<=10:\n",
    "    student=student+1\n",
    "    if student==us:\n",
    "        continue\n",
    "    print(\"congratz\",student)    \n",
    "   "
   ]
  },
  {
   "cell_type": "code",
   "execution_count": null,
   "id": "f2aa3858",
   "metadata": {},
   "outputs": [],
   "source": [
    "student=1\n",
    "us=int(input(\"who failed\"))\n",
    "while student<=10:\n",
    "    if student==us:\n",
    "        continue;\n",
    "    print(\"congratz\",student)    \n",
    "    student=student+1"
   ]
  },
  {
   "cell_type": "code",
   "execution_count": 38,
   "id": "b8fd889d",
   "metadata": {},
   "outputs": [
    {
     "name": "stdout",
     "output_type": "stream",
     "text": [
      "c is greater\n"
     ]
    }
   ],
   "source": [
    "a=10\n",
    "b=15\n",
    "c=20\n",
    "if b>c:\n",
    "    print(\"B is greater\")\n",
    "elif b>c:\n",
    "    print(\"a is greater\")\n",
    "    \n",
    "else:\n",
    "    print(\"c is greater\")"
   ]
  },
  {
   "cell_type": "code",
   "execution_count": 40,
   "id": "b2ab992a",
   "metadata": {},
   "outputs": [
    {
     "name": "stdout",
     "output_type": "stream",
     "text": [
      "1\n",
      "2\n",
      "3\n",
      "4\n",
      "5\n",
      "6\n",
      "7\n",
      "8\n",
      "9\n",
      "10\n"
     ]
    }
   ],
   "source": [
    "list1=[1,2,3,4,5,6,7,8,9,10]\n",
    "for i in list1:\n",
    "    print(i)"
   ]
  },
  {
   "cell_type": "code",
   "execution_count": 43,
   "id": "8efd0191",
   "metadata": {},
   "outputs": [
    {
     "name": "stdout",
     "output_type": "stream",
     "text": [
      "h\n",
      "e\n",
      "l\n",
      "l\n",
      "o\n",
      " \n",
      "h\n",
      "a\n",
      "i\n"
     ]
    }
   ],
   "source": [
    "string=\"hello hai\"\n",
    "for i in string:\n",
    "    print(i)"
   ]
  },
  {
   "cell_type": "code",
   "execution_count": 50,
   "id": "255c2f0b",
   "metadata": {},
   "outputs": [
    {
     "name": "stdout",
     "output_type": "stream",
     "text": [
      "Enter your expected salary5\n",
      "1 Accepted\n",
      "1 Accepted\n",
      "1 Accepted\n",
      "1 Accepted\n"
     ]
    }
   ],
   "source": [
    "i=1\n",
    "s=int(input(\"Enter your expected salary\"))\n",
    "while i<=10:\n",
    "     if s==i:\n",
    "        break\n",
    "     print(1,\"Accepted\")\n",
    "     i+=1\n",
    "else:\n",
    "    print(\"He takes all money\")"
   ]
  },
  {
   "cell_type": "code",
   "execution_count": 51,
   "id": "e9166d9a",
   "metadata": {},
   "outputs": [
    {
     "name": "stdout",
     "output_type": "stream",
     "text": [
      "Enter your expected salary10\n",
      "1 Accepted\n",
      "1 Accepted\n",
      "1 Accepted\n",
      "1 Accepted\n",
      "1 Accepted\n",
      "1 Accepted\n",
      "1 Accepted\n",
      "1 Accepted\n",
      "1 Accepted\n"
     ]
    }
   ],
   "source": [
    "i=1\n",
    "s=int(input(\"Enter your expected salary\"))\n",
    "while i<=10:\n",
    "     if s==i:\n",
    "        break\n",
    "     print(1,\"Accepted\")\n",
    "     i+=1\n",
    "else:\n",
    "    print(\"He takes all money\")"
   ]
  },
  {
   "cell_type": "code",
   "execution_count": 52,
   "id": "448ea40b",
   "metadata": {},
   "outputs": [
    {
     "name": "stdout",
     "output_type": "stream",
     "text": [
      "Enter your expected salary15\n",
      "1 Accepted\n",
      "1 Accepted\n",
      "1 Accepted\n",
      "1 Accepted\n",
      "1 Accepted\n",
      "1 Accepted\n",
      "1 Accepted\n",
      "1 Accepted\n",
      "1 Accepted\n",
      "1 Accepted\n",
      "He takes all money\n"
     ]
    }
   ],
   "source": [
    "i=1\n",
    "s=int(input(\"Enter your expected salary\"))\n",
    "while i<=10:\n",
    "     if s==i:\n",
    "        break\n",
    "     print(1,\"Accepted\")\n",
    "     i+=1\n",
    "else:\n",
    "    print(\"He takes all money\")"
   ]
  },
  {
   "cell_type": "code",
   "execution_count": 60,
   "id": "843d1d0d",
   "metadata": {},
   "outputs": [
    {
     "ename": "IndentationError",
     "evalue": "expected an indented block (3120362802.py, line 8)",
     "output_type": "error",
     "traceback": [
      "\u001b[0;36m  File \u001b[0;32m\"/tmp/ipykernel_11886/3120362802.py\"\u001b[0;36m, line \u001b[0;32m8\u001b[0m\n\u001b[0;31m    print(\"Element not found\")\u001b[0m\n\u001b[0m    ^\u001b[0m\n\u001b[0;31mIndentationError\u001b[0m\u001b[0;31m:\u001b[0m expected an indented block\n"
     ]
    }
   ],
   "source": [
    "list1=[1,2,3,4,5,6,7,8,9,10]\n",
    "element=int(input(\"Enter number to search\"))\n",
    "for i in list1:\n",
    "    if list1==element:\n",
    "        print(\"Element found\")\n",
    "        break;\n",
    "    else:       \n",
    "    print(\"Element not found\")  "
   ]
  },
  {
   "cell_type": "code",
   "execution_count": 63,
   "id": "8e23f76a",
   "metadata": {},
   "outputs": [
    {
     "name": "stdout",
     "output_type": "stream",
     "text": [
      "value of a and b is  hai and hello\n"
     ]
    }
   ],
   "source": [
    "a=\"hello\"\n",
    "b=\" hai\"\n",
    "a,b=b,a\n",
    "print(\"value of a and b is\",a,\"and\",b)"
   ]
  },
  {
   "cell_type": "code",
   "execution_count": 64,
   "id": "3c734eee",
   "metadata": {},
   "outputs": [
    {
     "name": "stdout",
     "output_type": "stream",
     "text": [
      "<class 'list'>\n"
     ]
    }
   ],
   "source": [
    "x=[1,2,3,4]\n",
    "print(type(x))"
   ]
  },
  {
   "cell_type": "code",
   "execution_count": 67,
   "id": "51fc7f54",
   "metadata": {},
   "outputs": [
    {
     "name": "stdout",
     "output_type": "stream",
     "text": [
      "140175635641280\n"
     ]
    }
   ],
   "source": [
    "x=[1,2,3,4]\n",
    "print(id(x))"
   ]
  },
  {
   "cell_type": "code",
   "execution_count": 69,
   "id": "ef0fb896",
   "metadata": {},
   "outputs": [
    {
     "name": "stdout",
     "output_type": "stream",
     "text": [
      "4\n",
      "5\n",
      "6\n",
      "7\n",
      "8\n",
      "9\n"
     ]
    }
   ],
   "source": [
    "for i in range(4,10):\n",
    "    print(i)"
   ]
  },
  {
   "cell_type": "code",
   "execution_count": 70,
   "id": "a936ab5c",
   "metadata": {},
   "outputs": [
    {
     "name": "stdout",
     "output_type": "stream",
     "text": [
      "['devid', 'hello', 'messi', 'myke']\n"
     ]
    }
   ],
   "source": [
    "list1=['hello','myke','devid','messi']\n",
    "list1.sort()\n",
    "print(list1)"
   ]
  },
  {
   "cell_type": "code",
   "execution_count": null,
   "id": "3de78e17",
   "metadata": {},
   "outputs": [],
   "source": [
    " "
   ]
  }
 ],
 "metadata": {
  "kernelspec": {
   "display_name": "Python 3 (ipykernel)",
   "language": "python",
   "name": "python3"
  },
  "language_info": {
   "codemirror_mode": {
    "name": "ipython",
    "version": 3
   },
   "file_extension": ".py",
   "mimetype": "text/x-python",
   "name": "python",
   "nbconvert_exporter": "python",
   "pygments_lexer": "ipython3",
   "version": "3.9.7"
  }
 },
 "nbformat": 4,
 "nbformat_minor": 5
}
