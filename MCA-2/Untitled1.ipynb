{
 "cells": [
  {
   "cell_type": "code",
   "execution_count": 7,
   "id": "771c29e0",
   "metadata": {},
   "outputs": [
    {
     "name": "stdout",
     "output_type": "stream",
     "text": [
      "string[2:2:6]\n"
     ]
    }
   ],
   "source": [
    "string=\"this is awasome\"\n",
    "print(\"string[2:2:6]\")"
   ]
  },
  {
   "cell_type": "code",
   "execution_count": 5,
   "id": "f816655a",
   "metadata": {},
   "outputs": [
    {
     "name": "stdout",
     "output_type": "stream",
     "text": [
      "hello\n"
     ]
    }
   ],
   "source": [
    "print(\"hello\")"
   ]
  },
  {
   "cell_type": "code",
   "execution_count": 4,
   "id": "3766324d",
   "metadata": {},
   "outputs": [
    {
     "ename": "TypeError",
     "evalue": "student() takes no arguments",
     "output_type": "error",
     "traceback": [
      "\u001b[0;31m---------------------------------------------------------------------------\u001b[0m",
      "\u001b[0;31mTypeError\u001b[0m                                 Traceback (most recent call last)",
      "\u001b[0;32m/tmp/ipykernel_4461/3432769567.py\u001b[0m in \u001b[0;36m<module>\u001b[0;34m\u001b[0m\n\u001b[1;32m      9\u001b[0m         \u001b[0mprint\u001b[0m\u001b[0;34m(\u001b[0m\u001b[0;34m\"I got Rank\"\u001b[0m\u001b[0;34m+\u001b[0m\u001b[0mself\u001b[0m\u001b[0;34m.\u001b[0m\u001b[0mrank\u001b[0m\u001b[0;34m)\u001b[0m\u001b[0;34m\u001b[0m\u001b[0;34m\u001b[0m\u001b[0m\n\u001b[1;32m     10\u001b[0m \u001b[0;34m\u001b[0m\u001b[0m\n\u001b[0;32m---> 11\u001b[0;31m \u001b[0mst1\u001b[0m\u001b[0;34m=\u001b[0m\u001b[0mstudent\u001b[0m\u001b[0;34m(\u001b[0m\u001b[0;34m\"Geeth Bale\"\u001b[0m\u001b[0;34m,\u001b[0m\u001b[0;36m1\u001b[0m\u001b[0;34m,\u001b[0m\u001b[0;36m100\u001b[0m\u001b[0;34m)\u001b[0m\u001b[0;34m\u001b[0m\u001b[0;34m\u001b[0m\u001b[0m\n\u001b[0m\u001b[1;32m     12\u001b[0m \u001b[0mst2\u001b[0m\u001b[0;34m=\u001b[0m\u001b[0mstudent\u001b[0m\u001b[0;34m(\u001b[0m\u001b[0;34m\"Zidane\"\u001b[0m\u001b[0;34m,\u001b[0m\u001b[0;36m2\u001b[0m\u001b[0;34m,\u001b[0m\u001b[0;36m90\u001b[0m\u001b[0;34m)\u001b[0m\u001b[0;34m\u001b[0m\u001b[0;34m\u001b[0m\u001b[0m\n\u001b[1;32m     13\u001b[0m \u001b[0;34m\u001b[0m\u001b[0m\n",
      "\u001b[0;31mTypeError\u001b[0m: student() takes no arguments"
     ]
    }
   ],
   "source": [
    "class student:\n",
    "    def _init_(self,name,rank,points):\n",
    "        self.name=name\n",
    "        self.rank=rank\n",
    "        self.points=points\n",
    "        \n",
    "    def printfunction(self):\n",
    "        print(\"I am\"+self.name)\n",
    "        print(\"I got Rank\"+self.rank)\n",
    "    \n",
    "st1=student(\"Geeth Bale\",1,100)\n",
    "st2=student(\"Zidane\",2,90)\n",
    "\n",
    "st1.printfunction()\n",
    "st2.printfunction()"
   ]
  },
  {
   "cell_type": "code",
   "execution_count": 5,
   "id": "08c14f09",
   "metadata": {},
   "outputs": [
    {
     "name": "stdout",
     "output_type": "stream",
     "text": [
      "Hello Parent\n",
      "Hello child\n"
     ]
    }
   ],
   "source": [
    "class parent:\n",
    "    def func1(self):\n",
    "        print(\"Hello Parent\")\n",
    "class child(parent):\n",
    "    def func2(self):\n",
    "        print(\"Hello child\")\n",
    "test=child()\n",
    "test.func1()\n",
    "test.func2()"
   ]
  },
  {
   "cell_type": "code",
   "execution_count": 2,
   "id": "0dc6be3b",
   "metadata": {},
   "outputs": [
    {
     "ename": "IndentationError",
     "evalue": "unindent does not match any outer indentation level (<tokenize>, line 6)",
     "output_type": "error",
     "traceback": [
      "\u001b[0;36m  File \u001b[0;32m\"<tokenize>\"\u001b[0;36m, line \u001b[0;32m6\u001b[0m\n\u001b[0;31m    elif a!=None and b!=None:\u001b[0m\n\u001b[0m    ^\u001b[0m\n\u001b[0;31mIndentationError\u001b[0m\u001b[0;31m:\u001b[0m unindent does not match any outer indentation level\n"
     ]
    }
   ],
   "source": [
    "class Addition:\n",
    "     def my_sum(self,a=None,b=None,c=None):\n",
    "         s=0\n",
    "         if a!=None and b!=None and c!=None:\n",
    "                s=a+b+c\n",
    "          elif a!=None and b!=None:\n",
    "                s=a+b\n",
    "        return s\n",
    "obj=Addition()\n",
    "print(obj.my_sum(10,20))\n",
    "print(obj.my_sum(10,20,30))\n"
   ]
  },
  {
   "cell_type": "code",
   "execution_count": null,
   "id": "0c99a7b9",
   "metadata": {},
   "outputs": [],
   "source": []
  }
 ],
 "metadata": {
  "kernelspec": {
   "display_name": "Python 3 (ipykernel)",
   "language": "python",
   "name": "python3"
  },
  "language_info": {
   "codemirror_mode": {
    "name": "ipython",
    "version": 3
   },
   "file_extension": ".py",
   "mimetype": "text/x-python",
   "name": "python",
   "nbconvert_exporter": "python",
   "pygments_lexer": "ipython3",
   "version": "3.9.7"
  }
 },
 "nbformat": 4,
 "nbformat_minor": 5
}
